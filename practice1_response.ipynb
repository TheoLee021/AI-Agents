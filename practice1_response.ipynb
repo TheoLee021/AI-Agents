{
 "cells": [
  {
   "cell_type": "code",
   "execution_count": null,
   "id": "86cf202d",
   "metadata": {},
   "outputs": [
    {
     "data": {
      "text/plain": [
       "ChatCompletion(id='chatcmpl-C3oOlrlhz3tGqlJ0XBLGhhSH1pxtm', choices=[Choice(finish_reason='stop', index=0, logprobs=None, message=ChatCompletionMessage(content='There isn’t a single capital for “Korea.” Korea is divided into two countries:\\n\\n- South Korea (Republic of Korea): Seoul\\n- North Korea (Democratic People’s Republic of Korea): Pyongyang\\n\\nIf you meant a historical period (e.g., Joseon Korea), the capital was Seoul (then called Hanseong/Hanyang). Which one did you have in mind?', refusal=None, role='assistant', annotations=[], audio=None, function_call=None, tool_calls=None))], created=1755024751, model='gpt-5-nano-2025-08-07', object='chat.completion', service_tier='default', system_fingerprint=None, usage=CompletionUsage(completion_tokens=537, prompt_tokens=13, total_tokens=550, completion_tokens_details=CompletionTokensDetails(accepted_prediction_tokens=0, audio_tokens=0, reasoning_tokens=448, rejected_prediction_tokens=0), prompt_tokens_details=PromptTokensDetails(audio_tokens=0, cached_tokens=0)))"
      ]
     },
     "execution_count": 1,
     "metadata": {},
     "output_type": "execute_result"
    }
   ],
   "source": [
    "import openai\n",
    "\n",
    "client = openai.OpenAI()\n",
    "\n",
    "response = client.chat.completions.create(\n",
    "    model=\"gpt-5-nano\",\n",
    "    messages=[\n",
    "        {\n",
    "            \"role\": \"user\",\n",
    "            \"content\": \"What is the capital of Korea?\",\n",
    "        }\n",
    "    ],\n",
    ")\n",
    "response"
   ]
  },
  {
   "cell_type": "code",
   "execution_count": 2,
   "id": "d7c605ce",
   "metadata": {},
   "outputs": [
    {
     "data": {
      "text/plain": [
       "'There isn’t a single capital for “Korea.” Korea is divided into two countries:\\n\\n- South Korea (Republic of Korea): Seoul\\n- North Korea (Democratic People’s Republic of Korea): Pyongyang\\n\\nIf you meant a historical period (e.g., Joseon Korea), the capital was Seoul (then called Hanseong/Hanyang). Which one did you have in mind?'"
      ]
     },
     "execution_count": 2,
     "metadata": {},
     "output_type": "execute_result"
    }
   ],
   "source": [
    "message = response.choices[0].message.content\n",
    "message"
   ]
  }
 ],
 "metadata": {
  "kernelspec": {
   "display_name": ".venv",
   "language": "python",
   "name": "python3"
  },
  "language_info": {
   "codemirror_mode": {
    "name": "ipython",
    "version": 3
   },
   "file_extension": ".py",
   "mimetype": "text/x-python",
   "name": "python",
   "nbconvert_exporter": "python",
   "pygments_lexer": "ipython3",
   "version": "3.12.6"
  }
 },
 "nbformat": 4,
 "nbformat_minor": 5
}
