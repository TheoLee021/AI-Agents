{
 "cells": [
  {
   "cell_type": "code",
   "execution_count": null,
   "id": "924e0ea0",
   "metadata": {},
   "outputs": [
    {
     "data": {
      "text/plain": [
       "ChatCompletion(id='chatcmpl-C3RlfYj177io9PquItFoUiyH3RCVc', choices=[Choice(finish_reason='stop', index=0, logprobs=None, message=ChatCompletionMessage(content='There are two Koreas:\\n\\n- South Korea (Republic of Korea): Seoul\\n- North Korea (Democratic People’s Republic of Korea): Pyongyang\\n\\nThere is no single capital for a unified Korea today. If you meant a historical capital (e.g., during the Joseon Dynasty), it was Seoul (also known as Hanyang or Hanseong in history). Do you want more detail on either country?', refusal=None, role='assistant', annotations=[], audio=None, function_call=None, tool_calls=None))], created=1754937759, model='gpt-5-nano-2025-08-07', object='chat.completion', service_tier='default', system_fingerprint=None, usage=CompletionUsage(completion_tokens=605, prompt_tokens=13, total_tokens=618, completion_tokens_details=CompletionTokensDetails(accepted_prediction_tokens=0, audio_tokens=0, reasoning_tokens=512, rejected_prediction_tokens=0), prompt_tokens_details=PromptTokensDetails(audio_tokens=0, cached_tokens=0)))"
      ]
     },
     "execution_count": 3,
     "metadata": {},
     "output_type": "execute_result"
    }
   ],
   "source": [
    "import openai\n",
    "\n",
    "client = openai.OpenAI()\n",
    "\n",
    "response = client.chat.completions.create(\n",
    "    model=\"gpt-5-nano\",\n",
    "    messages=[\n",
    "        {\n",
    "            \"role\": \"user\",\n",
    "            \"content\": \"What is the capital of Korea?\",\n",
    "        }\n",
    "    ],\n",
    ")\n",
    "response\n"
   ]
  },
  {
   "cell_type": "code",
   "execution_count": null,
   "id": "42ab377b",
   "metadata": {},
   "outputs": [
    {
     "data": {
      "text/markdown": [
       "There are two Koreas:\n",
       "\n",
       "- South Korea (Republic of Korea): Seoul\n",
       "- North Korea (Democratic People’s Republic of Korea): Pyongyang\n",
       "\n",
       "There is no single capital for a unified Korea today. If you meant a historical capital (e.g., during the Joseon Dynasty), it was Seoul (also known as Hanyang or Hanseong in history). Do you want more detail on either country?"
      ],
      "text/plain": [
       "<IPython.core.display.Markdown object>"
      ]
     },
     "metadata": {},
     "output_type": "display_data"
    }
   ],
   "source": [
    "print(response.choices[0].message.content)"
   ]
  }
 ],
 "metadata": {
  "kernelspec": {
   "display_name": ".venv",
   "language": "python",
   "name": "python3"
  },
  "language_info": {
   "codemirror_mode": {
    "name": "ipython",
    "version": 3
   },
   "file_extension": ".py",
   "mimetype": "text/x-python",
   "name": "python",
   "nbconvert_exporter": "python",
   "pygments_lexer": "ipython3",
   "version": "3.12.6"
  }
 },
 "nbformat": 4,
 "nbformat_minor": 5
}
