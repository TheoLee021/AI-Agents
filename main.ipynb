{
 "cells": [
  {
   "cell_type": "code",
   "execution_count": 29,
   "id": "cb916b50",
   "metadata": {},
   "outputs": [],
   "source": [
    "def get_weather(city):\n",
    "    return \"33 degrees celcius.\"\n",
    "\n",
    "FUNCTION_MAP = {\n",
    "    \"get_weather\": get_weather\n",
    "}"
   ]
  },
  {
   "cell_type": "code",
   "execution_count": 30,
   "id": "924e0ea0",
   "metadata": {},
   "outputs": [],
   "source": [
    "import openai, json\n",
    "\n",
    "client = openai.OpenAI()\n",
    "\n",
    "messages = []"
   ]
  },
  {
   "cell_type": "code",
   "execution_count": 31,
   "id": "e2b5406b",
   "metadata": {},
   "outputs": [],
   "source": [
    "TOOLS = [\n",
    "    {\n",
    "        \"type\":\"function\",\n",
    "        \"function\": {\n",
    "            \"name\": \"get_weather\",\n",
    "            \"description\": \"A function to get the weather of a city.\",\n",
    "            \"parameters\": {\n",
    "                \"type\":\"object\",\n",
    "                \"properties\": {\n",
    "                    \"city\": {\n",
    "                        \"type\": \"string\",\n",
    "                        \"description\": \"The name of the city to get the weather of.\",\n",
    "                    }\n",
    "                },\n",
    "                \"required\": [\"city\"],\n",
    "            },\n",
    "        },\n",
    "    }\n",
    "]"
   ]
  },
  {
   "cell_type": "code",
   "execution_count": 32,
   "id": "b12e6696",
   "metadata": {},
   "outputs": [],
   "source": [
    "from openai.types.chat import ChatCompletionMessage\n",
    "\n",
    "def process_ai_response(message: ChatCompletionMessage):\n",
    "    if message.tool_calls:\n",
    "        messages.append(\n",
    "            {\n",
    "                \"role\": \"assistant\",\n",
    "                \"content\": message.content or \"\",\n",
    "                \"tool_calls\": [\n",
    "                    {\n",
    "                        \"id\": tool_call.id,\n",
    "                        \"type\":\"function\",\n",
    "                        \"function\": {\n",
    "                            \"name\": tool_call.function.name,\n",
    "                            \"arguments\": tool_call.function.arguments,\n",
    "                        },\n",
    "                    }\n",
    "                    for tool_call in message.tool_calls\n",
    "                ],\n",
    "            }\n",
    "        )\n",
    "    \n",
    "        for tool_call in message.tool_calls:\n",
    "            function_name = tool_call.function.name\n",
    "            arguments = tool_call.function.arguments\n",
    "\n",
    "            print(f\"Calling function: {function_name} with {arguments}\")\n",
    "            \n",
    "            try:\n",
    "                arguments = json.loads(arguments)\n",
    "            except json.JSONDecodeError:\n",
    "                arguments = {}\n",
    "\n",
    "            function_to_run = FUNCTION_MAP.get(function_name)\n",
    "\n",
    "            result = function_to_run(**arguments)\n",
    "\n",
    "            print(f\"Ran {function_name} with args {arguments} for a result of {result}\")\n",
    "\n",
    "            messages.append(\n",
    "                {\n",
    "                    \"role\": \"tool\",\n",
    "                    \"tool_call_id\": tool_call.id,\n",
    "                    \"name\": function_name,\n",
    "                    \"content\": result,\n",
    "                }\n",
    "            )\n",
    "\n",
    "        call_ai()\n",
    "\n",
    "    else:\n",
    "        messages.append({\"role\": \"assistant\", \"content\": message.content})\n",
    "        print(f\"AI: {message.content}\")\n",
    "\n",
    "def call_ai():\n",
    "    response = client.chat.completions.create(\n",
    "        model=\"gpt-5-nano\",\n",
    "        messages=messages,\n",
    "        tools=TOOLS,\n",
    "    )\n",
    "    process_ai_response(response.choices[0].message)"
   ]
  },
  {
   "cell_type": "code",
   "execution_count": 33,
   "id": "3402572c",
   "metadata": {},
   "outputs": [
    {
     "name": "stdout",
     "output_type": "stream",
     "text": [
      "User: My name is Theo\n",
      "AI: Nice to meet you, Theo! How can I help you today? If you’d like, I can use your name during our chat to make things more personalized.\n",
      "User: What is my name?\n",
      "AI: Your name is Theo.\n",
      "\n",
      "I’ll keep addressing you as Theo in this chat. If you’d like me to use a different name or nickname, just tell me.\n",
      "User: What is the weather in Busan?\n",
      "Calling function: get_weather with {\"city\":\"Busan\"}\n",
      "Ran get_weather with args {'city': 'Busan'} for a result of 33 degrees celcius.\n",
      "AI: Theo, the current weather in Busan is 33°C. It’s quite warm—you might want light clothing and to stay hydrated. Want me to pull humidity and wind details or check the forecast for the day?\n"
     ]
    }
   ],
   "source": [
    "while True:\n",
    "    message = input(\"Send a message to the LLM...\")\n",
    "    if message == \"quit\" or message == \"q\":\n",
    "        break\n",
    "    else:\n",
    "        messages.append({\"role\": \"user\", \"content\": message})\n",
    "        print(f\"User: {message}\")\n",
    "        call_ai()"
   ]
  },
  {
   "cell_type": "code",
   "execution_count": 34,
   "id": "12ecce2f",
   "metadata": {},
   "outputs": [
    {
     "data": {
      "text/plain": [
       "[{'role': 'user', 'content': 'My name is Theo'},\n",
       " {'role': 'assistant',\n",
       "  'content': 'Nice to meet you, Theo! How can I help you today? If you’d like, I can use your name during our chat to make things more personalized.'},\n",
       " {'role': 'user', 'content': 'What is my name?'},\n",
       " {'role': 'assistant',\n",
       "  'content': 'Your name is Theo.\\n\\nI’ll keep addressing you as Theo in this chat. If you’d like me to use a different name or nickname, just tell me.'},\n",
       " {'role': 'user', 'content': 'What is the weather in Busan?'},\n",
       " {'role': 'assistant',\n",
       "  'content': '',\n",
       "  'tool_calls': [{'id': 'call_J49iM56yW0yWodNvn00UhBio',\n",
       "    'type': 'function',\n",
       "    'function': {'name': 'get_weather', 'arguments': '{\"city\":\"Busan\"}'}}]},\n",
       " {'role': 'tool',\n",
       "  'tool_call_id': 'call_J49iM56yW0yWodNvn00UhBio',\n",
       "  'name': 'get_weather',\n",
       "  'content': '33 degrees celcius.'},\n",
       " {'role': 'assistant',\n",
       "  'content': 'Theo, the current weather in Busan is 33°C. It’s quite warm—you might want light clothing and to stay hydrated. Want me to pull humidity and wind details or check the forecast for the day?'}]"
      ]
     },
     "execution_count": 34,
     "metadata": {},
     "output_type": "execute_result"
    }
   ],
   "source": [
    "messages"
   ]
  }
 ],
 "metadata": {
  "kernelspec": {
   "display_name": ".venv",
   "language": "python",
   "name": "python3"
  },
  "language_info": {
   "codemirror_mode": {
    "name": "ipython",
    "version": 3
   },
   "file_extension": ".py",
   "mimetype": "text/x-python",
   "name": "python",
   "nbconvert_exporter": "python",
   "pygments_lexer": "ipython3",
   "version": "3.12.6"
  }
 },
 "nbformat": 4,
 "nbformat_minor": 5
}
