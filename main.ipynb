{
 "cells": [
  {
   "cell_type": "code",
   "execution_count": 1,
   "id": "924e0ea0",
   "metadata": {},
   "outputs": [],
   "source": [
    "import openai\n",
    "\n",
    "client = openai.OpenAI()\n",
    "\n",
    "messages = []"
   ]
  },
  {
   "cell_type": "code",
   "execution_count": 2,
   "id": "b12e6696",
   "metadata": {},
   "outputs": [],
   "source": [
    "def call_ai():\n",
    "    response = client.chat.completions.create(\n",
    "        model=\"gpt-5-nano\",\n",
    "        messages=messages,\n",
    "    )\n",
    "    message = response.choices[0].message.content\n",
    "    messages.append({\"role\": \"assistant\", \"content\": message})\n",
    "    print(f\"AI: {message}\")"
   ]
  },
  {
   "cell_type": "code",
   "execution_count": null,
   "id": "3402572c",
   "metadata": {},
   "outputs": [
    {
     "name": "stdout",
     "output_type": "stream",
     "text": [
      "User: My name is Theo\n",
      "AI: Hi Theo! Nice to meet you. How can I help today? If you’re not sure, a few ideas:\n",
      "- Answer a question or explain something you’re curious about\n",
      "- Help with writing, editing, or brainstorming\n",
      "- Learn a new skill or topic (coding, math, languages, etc.)\n",
      "- Plan a project or organize tasks\n",
      "- Have a casual chat or get recommendations\n",
      "\n",
      "Tell me what you’d like to do.\n",
      "User: What is my name?\n",
      "AI: Your name is Theo.\n",
      "\n",
      "Would you like me to call you Theo, or would you prefer a different name or nickname? I can also remember it for this chat if you’d like.\n",
      "User: I'm from Korea. Just remember it. You don't have to say anything else.\n",
      "AI: Noted.\n",
      "User: What was the first question I asked you and what is the closest Island country to where I was born?\n",
      "AI: - The first question you asked was: \"What is my name?\"\n",
      "- The closest island country to Korea is Japan.\n",
      "User: \n",
      "AI: - The first question you asked was: \"What is my name?\"\n",
      "- The closest island country to Korea is Japan.\n",
      "\n",
      "Would you like to ask another question?\n"
     ]
    }
   ],
   "source": [
    "while True:\n",
    "    message = input(\"Send a message to the LLM...\")\n",
    "    if message == \"quit\" or message == \"q\":\n",
    "        break\n",
    "    else:\n",
    "        messages.append({\"role\": \"user\", \"content\": message})\n",
    "        print(f\"User: {message}\")\n",
    "        call_ai()"
   ]
  }
 ],
 "metadata": {
  "kernelspec": {
   "display_name": ".venv",
   "language": "python",
   "name": "python3"
  },
  "language_info": {
   "codemirror_mode": {
    "name": "ipython",
    "version": 3
   },
   "file_extension": ".py",
   "mimetype": "text/x-python",
   "name": "python",
   "nbconvert_exporter": "python",
   "pygments_lexer": "ipython3",
   "version": "3.12.6"
  }
 },
 "nbformat": 4,
 "nbformat_minor": 5
}
