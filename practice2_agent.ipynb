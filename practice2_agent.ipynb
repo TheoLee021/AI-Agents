{
 "cells": [
  {
   "cell_type": "code",
   "execution_count": null,
   "id": "edf7ff39",
   "metadata": {},
   "outputs": [],
   "source": [
    "import openai\n",
    "\n",
    "client = openai.OpenAI()\n",
    "\n",
    "PROMPT = \"\"\"\n",
    "I have the following functions in my system.\n",
    "\n",
    "'get_weather'\n",
    "'get_currency*\n",
    "'get_news\n",
    "\n",
    "All of them receive the name of a country as an argumet (i.e get_news ('Spain'))\n",
    "\n",
    "Please answer with the name of the function that you would like me to run.\n",
    "\n",
    "Please say nothing else, just the name of the function with the arguments.\n",
    "\n",
    "Answer the following question:\n",
    "\n",
    "What is the weather in Greece?\n",
    "\"\"\"\n",
    "\n",
    "response = client.chat.completions.create(\n",
    "    model=\"gpt-5-nano\",\n",
    "    messages=[\n",
    "        {\n",
    "            \"role\": \"user\",\n",
    "            \"content\": PROMPT,\n",
    "        }\n",
    "    ],\n",
    ")\n",
    "response"
   ]
  },
  {
   "cell_type": "code",
   "execution_count": null,
   "id": "5f67a6af",
   "metadata": {},
   "outputs": [],
   "source": [
    "message = response.choices[0].message.content\n",
    "message"
   ]
  }
 ],
 "metadata": {
  "language_info": {
   "name": "python"
  }
 },
 "nbformat": 4,
 "nbformat_minor": 5
}
